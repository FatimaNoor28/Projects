{
 "cells": [
  {
   "cell_type": "code",
   "execution_count": 2,
   "id": "645bddf5",
   "metadata": {},
   "outputs": [],
   "source": [
    "%matplotlib inline\n",
    "import numpy as np\n",
    "import pandas as pd\n",
    "from matplotlib import pyplot as plt"
   ]
  },
  {
   "cell_type": "code",
   "execution_count": 3,
   "id": "0fee6d50",
   "metadata": {},
   "outputs": [],
   "source": [
    "img2=np.array([0,0,0,0,0,0,0,0,0,0,0,0,0,0,0,0,0,0,1,1,1,0,0,0,0,0,0,0,0,0,0,0,0,1,1,0,0,0,0,0,0,0,0,\n",
    "0,0,1,0,0,1,0,0,0,0,0,0,0,0,0,0,0,1,1,0,0,1,0,0,0,0,0,0,0,0,0,0,0,1,1,0,0,1,0,0,0,0,0,0,0,0,0,0,0,1,\n",
    "1,1,0,1,0,0,0,0,0,0,0,0,0,0,1,1,0,1,0,1,0,0,0,0,0,0,0,0,0,0,1,0,0,1,0,1,0,0,0,0,0,0,0,0,0,1,0,0,0,1,\n",
    "0,1,1,1,1,1,1,1,1,1,1,1,0,0,0,1,1,0,0,0,0,0,0,0,0,0,0,0,0,0,0,0,1,0,0,0,0,0,0,0,0,0,0,0,0,0,0,0,1,0,\n",
    "0,0,0,0,0,0,0,0,0,0,0,0,0,0,1,0,0,0,0,0,0,0,0,0,0,0,0,0,0,0,1,0,0,0,0,0,0,0,0,0,0,0,0,0,0,0,1,0,0,0,\n",
    "0,0,0,0,0,0,0,0,0,0,0,0,0],dtype=np.uint8)"
   ]
  },
  {
   "cell_type": "code",
   "execution_count": 4,
   "id": "29127fed",
   "metadata": {},
   "outputs": [],
   "source": [
    "img4=np.array([0,0,0,0,0,0,0,0,0,0,0,0,0,0,0,0,0,0,0,0,0,0,0,0,0,0,0,0,0,0,0,0,0,0,0,0,0,0,0,1,0,0,0,\n",
    "0,0,0,0,0,1,1,1,1,1,1,1,1,0,0,0,0,0,0,0,0,0,0,0,0,0,0,0,1,0,0,0,0,0,0,0,1,0,0,0,0,0,0,0,1,0,0,0,0,0,\n",
    "1,1,1,0,0,0,0,0,0,1,0,0,0,1,1,1,0,0,0,0,0,0,0,0,0,1,0,0,1,1,0,0,0,0,0,0,0,0,0,0,0,1,1,1,0,0,0,0,0,0,\n",
    "0,0,1,1,1,1,1,1,0,0,0,0,0,0,0,0,0,1,1,0,0,0,1,0,0,0,0,0,0,0,0,0,0,0,0,0,0,0,1,0,0,0,0,0,0,0,0,0,0,0,\n",
    "0,0,0,1,1,0,0,0,0,0,0,0,0,0,0,0,0,0,0,0,1,0,0,0,0,0,0,0,0,0,0,0,0,0,0,0,0,0,0,0,0,0,0,0,0,0,0,0,0,0,\n",
    "0,0,0,0,0,0,0,0,0,0,0,0,0],dtype=np.uint8)"
   ]
  },
  {
   "cell_type": "code",
   "execution_count": 5,
   "id": "0198bf24",
   "metadata": {},
   "outputs": [
    {
     "data": {
      "text/plain": [
       "<matplotlib.image.AxesImage at 0x194fed47580>"
      ]
     },
     "execution_count": 5,
     "metadata": {},
     "output_type": "execute_result"
    },
    {
     "data": {
      "image/png": "[encoded data removed]",
      "text/plain": [
       "<Figure size 640x480 with 1 Axes>"
      ]
     },
     "metadata": {},
     "output_type": "display_data"
    }
   ],
   "source": [
    "img = np.reshape(img4,(16,16),order='F')\n",
    "plt.imshow(img)"
   ]
  },
  {
   "cell_type": "code",
   "execution_count": 6,
   "id": "b01233e1",
   "metadata": {},
   "outputs": [],
   "source": [
    "file1 = pd.read_csv(\"trainX.txt\", sep = ' ', header = None)\n",
    "file1 = file1.dropna(axis = 1)\n",
    "train_x = np.array(file1)\n",
    "\n",
    "file2 = pd.read_csv(\"trainY.txt\", sep = ' ', header = None)\n",
    "file2 = file2.dropna(axis = 1)\n",
    "train_y = np.array(file2)\n",
    "#train_y.shape\n",
    "\n",
    "two_trainX = train_x[:250,:]\n",
    "four_trainX = train_x[250:,:]"
   ]
  },
  {
   "cell_type": "code",
   "execution_count": 7,
   "id": "ad11d66b",
   "metadata": {},
   "outputs": [],
   "source": [
    "#two_trainX.shape\n",
    "two_one_prob = (two_trainX.sum(axis = 0)+1)/(two_trainX.shape[0]+2)\n",
    "two_one_prob = two_one_prob.reshape(1,-1)\n",
    "#print(two_one_prob)\n",
    "two_zero_prob = 1 - two_one_prob\n",
    "two_zero_prob = two_zero_prob.reshape(1,-1)\n",
    "#print(two_zero_prob)\n",
    "#two_zero_prob.shape"
   ]
  },
  {
   "cell_type": "code",
   "execution_count": 8,
   "id": "b83d6781",
   "metadata": {},
   "outputs": [],
   "source": [
    "four_one_prob = (four_trainX.sum(axis = 0)+1)/(four_trainX.shape[0]+2)\n",
    "four_one_prob = four_one_prob.reshape(1,-1)\n",
    "#print(four_one_prob)\n",
    "four_zero_prob = 1 - four_one_prob\n",
    "four_zero_prob = four_zero_prob.reshape(1,-1)\n",
    "#print(four_zero_prob)"
   ]
  },
  {
   "cell_type": "code",
   "execution_count": 9,
   "id": "127aabc3",
   "metadata": {},
   "outputs": [
    {
     "data": {
      "text/plain": [
       "(1, 256)"
      ]
     },
     "execution_count": 9,
     "metadata": {},
     "output_type": "execute_result"
    }
   ],
   "source": [
    "four_one_prob.shape"
   ]
  },
  {
   "cell_type": "code",
   "execution_count": 10,
   "id": "8059efee",
   "metadata": {},
   "outputs": [
    {
     "data": {
      "text/plain": [
       "(1, 256)"
      ]
     },
     "execution_count": 10,
     "metadata": {},
     "output_type": "execute_result"
    }
   ],
   "source": [
    "prob_ones_class2 = np.log(two_one_prob)\n",
    "prob_zeros_class2 = np.log(two_zero_prob)\n",
    "prob_ones_class4 = np.log(four_one_prob)\n",
    "prob_zeros_class4 = np.log(four_zero_prob)\n",
    "prob_zeros_class2.shape\n",
    "#prob_zeros_class4[0][1]\n"
   ]
  },
  {
   "cell_type": "code",
   "execution_count": 11,
   "id": "202fb906",
   "metadata": {},
   "outputs": [
    {
     "name": "stdout",
     "output_type": "stream",
     "text": [
      "\n",
      "Accuracy of Training Data:  98.8 %\n"
     ]
    }
   ],
   "source": [
    "#predictions for class 2 in x_train\n",
    "prediction_trainX_class2 = list()\n",
    "for x in range(train_x.shape[0]):\n",
    "    result = 0.0\n",
    "    for y in range(train_x.shape[1]):\n",
    "        if(train_x[x][y] == 1):\n",
    "            result = result + prob_ones_class2[0][y]\n",
    "        elif(train_x[x][y] == 0):\n",
    "            result = result + prob_zeros_class2[0][y]\n",
    "    prediction_trainX_class2.append(result*0.5)\n",
    "\n",
    "#predictions for class 4 in x_train\n",
    "prediction_trainX_class4 = list()\n",
    "for x in range(train_x.shape[0]):\n",
    "    result = 0.0\n",
    "    for y in range(train_x.shape[1]):\n",
    "        if(train_x[x][y] == 1):\n",
    "            result = result + prob_ones_class4[0][y]\n",
    "        elif(train_x[x][y] == 0):\n",
    "            result = result + prob_zeros_class4[0][y]\n",
    "    prediction_trainX_class4.append(result*0.5)\n",
    "\n",
    "\n",
    "#Accuracy of train_x predictions\n",
    "\n",
    "predictions_train = list()\n",
    "for x in range (train_y.shape[0]):\n",
    "    for y in range (train_y.shape[1]):\n",
    "        if(prediction_trainX_class2[x] > prediction_trainX_class4[x]):\n",
    "            predictions_train.append(2)\n",
    "        else:\n",
    "            predictions_train.append(4)\n",
    "\n",
    "#print(\"Predictions: \")\n",
    "#print(predictions_train)\n",
    "#print(\"Actual values: \")\n",
    "#print(train_y)\n",
    "\n",
    "\n",
    "accurate = 0\n",
    "for i in range(train_y.shape[0]):\n",
    "    if(int(predictions_train[i]) == train_y[i]):\n",
    "        accurate = accurate + 1\n",
    "\n",
    "a = (accurate / 500) * 100\n",
    "print(\"\\nAccuracy of Training Data: \", a, \"%\")"
   ]
  },
  {
   "cell_type": "code",
   "execution_count": null,
   "id": "85c55b9e",
   "metadata": {},
   "outputs": [],
   "source": []
  },
  {
   "cell_type": "code",
   "execution_count": 12,
   "id": "7c5f68c9",
   "metadata": {},
   "outputs": [
    {
     "data": {
      "text/plain": [
       "(100, 256)"
      ]
     },
     "execution_count": 12,
     "metadata": {},
     "output_type": "execute_result"
    }
   ],
   "source": [
    "file3 = pd.read_csv(\"testX.txt\", sep = ' ', header = None)\n",
    "file3 = file3.dropna(axis = 1)\n",
    "test_x = np.array(file3)\n",
    "\n",
    "file4 = pd.read_csv(\"testY.txt\", sep = ' ', header = None)\n",
    "file4 = file4.dropna(axis = 1)\n",
    "test_y = np.array(file4)\n",
    "\n",
    "\n",
    "two_testX = test_x[:50,:]\n",
    "four_testX = test_x[50:,:]\n",
    "\n",
    "#two_trainX.shape\n",
    "two_one_prob = (two_testX.sum(axis = 0)+1)/(two_testX.shape[0]+2)\n",
    "two_one_prob = two_one_prob.reshape(1,-1)\n",
    "#print(two_one_prob)\n",
    "two_zero_prob = 1 - two_one_prob\n",
    "two_zero_prob = two_zero_prob.reshape(1,-1)\n",
    "#print(two_zero_prob)\n",
    "\n",
    "four_one_prob = (four_testX.sum(axis = 0)+1)/(four_testX.shape[0]+2)\n",
    "four_one_prob = four_one_prob.reshape(1,-1)\n",
    "#print(four_one_prob)\n",
    "four_zero_prob = 1 - four_one_prob\n",
    "four_zero_prob = four_zero_prob.reshape(1,-1)\n",
    "#print(four_zero_prob)\n",
    "\n",
    "prob_ones_class2 = np.log(two_one_prob)\n",
    "prob_zeros_class2 = np.log(two_zero_prob)\n",
    "prob_ones_class4 = np.log(four_one_prob)\n",
    "prob_zeros_class4 = np.log(four_zero_prob)\n",
    "#prob_zeros_class2.shape\n",
    "test_x.shape"
   ]
  },
  {
   "cell_type": "code",
   "execution_count": 13,
   "id": "e84a5df4",
   "metadata": {},
   "outputs": [
    {
     "name": "stdout",
     "output_type": "stream",
     "text": [
      "Accuracy of Testing Data:  100.0 %\n"
     ]
    }
   ],
   "source": [
    "\n",
    "#predictions for class 2 in test_x\n",
    "prediction_testX_class2 = list()\n",
    "for x in range(test_x.shape[0]):\n",
    "    result = 0.0\n",
    "    for y in range(test_x.shape[1]):\n",
    "        if(test_x[x][y] == 1):\n",
    "            result = result + prob_ones_class2[0][y]\n",
    "        elif(test_x[x][y] == 0):\n",
    "            result = result + prob_zeros_class2[0][y]\n",
    "    prediction_testX_class2.append(result*0.5)\n",
    "\n",
    "#predictions for class 4 in test_x\n",
    "prediction_testX_class4 = list()\n",
    "for x in range(test_x.shape[0]):\n",
    "    result = 0.0\n",
    "    for y in range(test_x.shape[1]):\n",
    "        if(test_x[x][y] == 1):\n",
    "            result = result + prob_ones_class4[0][y]\n",
    "        elif(test_x[x][y] == 0):\n",
    "            result = result + prob_zeros_class4[0][y]\n",
    "    prediction_testX_class4.append(result*0.5)\n",
    "\n",
    "\n",
    "#Accuracy of train_x predictions\n",
    "\n",
    "predictions_test = list()\n",
    "for x in range (test_y.shape[0]):\n",
    "    for y in range (test_y.shape[1]):\n",
    "        if(prediction_testX_class2[x] > prediction_testX_class4[x]):\n",
    "            predictions_test.append(2)\n",
    "        else:\n",
    "            predictions_test.append(4)\n",
    "\n",
    "#print(\"Predictions: \")\n",
    "#print(predictions_train)\n",
    "#print(\"Actual values: \")\n",
    "#print(train_y)\n",
    "\n",
    "from sklearn.metrics import confusion_matrix,classification_report\n",
    "len(test_y)\n",
    "classification_report(test_y,predictions_test)\n",
    "\n",
    "accurate = 0\n",
    "for i in range(test_y.shape[0]):\n",
    "    if(int(predictions_test[i]) == test_y[i]):\n",
    "        accurate = accurate + 1\n",
    "        \n",
    "b = (accurate / 100) * 100\n",
    "print(\"Accuracy of Testing Data: \", b, \"%\")"
   ]
  },
  {
   "cell_type": "code",
   "execution_count": 14,
   "id": "4d063ea6",
   "metadata": {},
   "outputs": [
    {
     "name": "stdout",
     "output_type": "stream",
     "text": [
      "The overall accuracy of the system is:  99.4 %\n"
     ]
    }
   ],
   "source": [
    "print(\"The overall accuracy of the system is: \", ((a + b) / 2),\"%\")"
   ]
  },
  {
   "cell_type": "code",
   "execution_count": null,
   "id": "5044f839",
   "metadata": {},
   "outputs": [],
   "source": []
  }
 ],
 "metadata": {
  "kernelspec": {
   "display_name": "Python 3 (ipykernel)",
   "language": "python",
   "name": "python3"
  },
  "language_info": {
   "codemirror_mode": {
    "name": "ipython",
    "version": 3
   },
   "file_extension": ".py",
   "mimetype": "text/x-python",
   "name": "python",
   "nbconvert_exporter": "python",
   "pygments_lexer": "ipython3",
   "version": "3.9.13"
  }
 },
 "nbformat": 4,
 "nbformat_minor": 5
}
